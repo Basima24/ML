{
  "nbformat": 4,
  "nbformat_minor": 0,
  "metadata": {
    "colab": {
      "provenance": []
    },
    "kernelspec": {
      "name": "python3",
      "display_name": "Python 3"
    },
    "language_info": {
      "name": "python"
    }
  },
  "cells": [
    {
      "cell_type": "code",
      "execution_count": 2,
      "metadata": {
        "id": "YSXBuYgQhtrc"
      },
      "outputs": [],
      "source": [
        "import pandas as pd\n",
        "import numpy as np\n",
        "\n",
        "from sklearn.datasets import load_breast_cancer\n",
        "from sklearn.model_selection import train_test_split\n",
        "from sklearn.preprocessing import StandardScaler\n"
      ]
    },
    {
      "cell_type": "code",
      "source": [
        "# 1. Loading and Preprocessing (2 marks) Load the breast cancer dataset from sklearn. Preprocess the data to handle any missing values and\n",
        "# perform necessary feature scaling.\n",
        "# Explain the preprocessing steps you performed and justify why they are necessary for this dataset.\n",
        "\n",
        "data=load_breast_cancer()\n",
        "X=pd.DataFrame(data.data,columns=data.feature_names)\n",
        "y=pd.Series(data.target,name='target')"
      ],
      "metadata": {
        "id": "qk7EDV6uiMHN"
      },
      "execution_count": 3,
      "outputs": []
    },
    {
      "cell_type": "code",
      "source": [
        "# missing values\n",
        "X.isnull().sum()\n"
      ],
      "metadata": {
        "colab": {
          "base_uri": "https://localhost:8080/",
          "height": 1000
        },
        "id": "rFsMRv9OiP4h",
        "outputId": "404be498-48a3-4b01-935f-5539e9c8c0ef"
      },
      "execution_count": 4,
      "outputs": [
        {
          "output_type": "execute_result",
          "data": {
            "text/plain": [
              "mean radius                0\n",
              "mean texture               0\n",
              "mean perimeter             0\n",
              "mean area                  0\n",
              "mean smoothness            0\n",
              "mean compactness           0\n",
              "mean concavity             0\n",
              "mean concave points        0\n",
              "mean symmetry              0\n",
              "mean fractal dimension     0\n",
              "radius error               0\n",
              "texture error              0\n",
              "perimeter error            0\n",
              "area error                 0\n",
              "smoothness error           0\n",
              "compactness error          0\n",
              "concavity error            0\n",
              "concave points error       0\n",
              "symmetry error             0\n",
              "fractal dimension error    0\n",
              "worst radius               0\n",
              "worst texture              0\n",
              "worst perimeter            0\n",
              "worst area                 0\n",
              "worst smoothness           0\n",
              "worst compactness          0\n",
              "worst concavity            0\n",
              "worst concave points       0\n",
              "worst symmetry             0\n",
              "worst fractal dimension    0\n",
              "dtype: int64"
            ],
            "text/html": [
              "<div>\n",
              "<style scoped>\n",
              "    .dataframe tbody tr th:only-of-type {\n",
              "        vertical-align: middle;\n",
              "    }\n",
              "\n",
              "    .dataframe tbody tr th {\n",
              "        vertical-align: top;\n",
              "    }\n",
              "\n",
              "    .dataframe thead th {\n",
              "        text-align: right;\n",
              "    }\n",
              "</style>\n",
              "<table border=\"1\" class=\"dataframe\">\n",
              "  <thead>\n",
              "    <tr style=\"text-align: right;\">\n",
              "      <th></th>\n",
              "      <th>0</th>\n",
              "    </tr>\n",
              "  </thead>\n",
              "  <tbody>\n",
              "    <tr>\n",
              "      <th>mean radius</th>\n",
              "      <td>0</td>\n",
              "    </tr>\n",
              "    <tr>\n",
              "      <th>mean texture</th>\n",
              "      <td>0</td>\n",
              "    </tr>\n",
              "    <tr>\n",
              "      <th>mean perimeter</th>\n",
              "      <td>0</td>\n",
              "    </tr>\n",
              "    <tr>\n",
              "      <th>mean area</th>\n",
              "      <td>0</td>\n",
              "    </tr>\n",
              "    <tr>\n",
              "      <th>mean smoothness</th>\n",
              "      <td>0</td>\n",
              "    </tr>\n",
              "    <tr>\n",
              "      <th>mean compactness</th>\n",
              "      <td>0</td>\n",
              "    </tr>\n",
              "    <tr>\n",
              "      <th>mean concavity</th>\n",
              "      <td>0</td>\n",
              "    </tr>\n",
              "    <tr>\n",
              "      <th>mean concave points</th>\n",
              "      <td>0</td>\n",
              "    </tr>\n",
              "    <tr>\n",
              "      <th>mean symmetry</th>\n",
              "      <td>0</td>\n",
              "    </tr>\n",
              "    <tr>\n",
              "      <th>mean fractal dimension</th>\n",
              "      <td>0</td>\n",
              "    </tr>\n",
              "    <tr>\n",
              "      <th>radius error</th>\n",
              "      <td>0</td>\n",
              "    </tr>\n",
              "    <tr>\n",
              "      <th>texture error</th>\n",
              "      <td>0</td>\n",
              "    </tr>\n",
              "    <tr>\n",
              "      <th>perimeter error</th>\n",
              "      <td>0</td>\n",
              "    </tr>\n",
              "    <tr>\n",
              "      <th>area error</th>\n",
              "      <td>0</td>\n",
              "    </tr>\n",
              "    <tr>\n",
              "      <th>smoothness error</th>\n",
              "      <td>0</td>\n",
              "    </tr>\n",
              "    <tr>\n",
              "      <th>compactness error</th>\n",
              "      <td>0</td>\n",
              "    </tr>\n",
              "    <tr>\n",
              "      <th>concavity error</th>\n",
              "      <td>0</td>\n",
              "    </tr>\n",
              "    <tr>\n",
              "      <th>concave points error</th>\n",
              "      <td>0</td>\n",
              "    </tr>\n",
              "    <tr>\n",
              "      <th>symmetry error</th>\n",
              "      <td>0</td>\n",
              "    </tr>\n",
              "    <tr>\n",
              "      <th>fractal dimension error</th>\n",
              "      <td>0</td>\n",
              "    </tr>\n",
              "    <tr>\n",
              "      <th>worst radius</th>\n",
              "      <td>0</td>\n",
              "    </tr>\n",
              "    <tr>\n",
              "      <th>worst texture</th>\n",
              "      <td>0</td>\n",
              "    </tr>\n",
              "    <tr>\n",
              "      <th>worst perimeter</th>\n",
              "      <td>0</td>\n",
              "    </tr>\n",
              "    <tr>\n",
              "      <th>worst area</th>\n",
              "      <td>0</td>\n",
              "    </tr>\n",
              "    <tr>\n",
              "      <th>worst smoothness</th>\n",
              "      <td>0</td>\n",
              "    </tr>\n",
              "    <tr>\n",
              "      <th>worst compactness</th>\n",
              "      <td>0</td>\n",
              "    </tr>\n",
              "    <tr>\n",
              "      <th>worst concavity</th>\n",
              "      <td>0</td>\n",
              "    </tr>\n",
              "    <tr>\n",
              "      <th>worst concave points</th>\n",
              "      <td>0</td>\n",
              "    </tr>\n",
              "    <tr>\n",
              "      <th>worst symmetry</th>\n",
              "      <td>0</td>\n",
              "    </tr>\n",
              "    <tr>\n",
              "      <th>worst fractal dimension</th>\n",
              "      <td>0</td>\n",
              "    </tr>\n",
              "  </tbody>\n",
              "</table>\n",
              "</div><br><label><b>dtype:</b> int64</label>"
            ]
          },
          "metadata": {},
          "execution_count": 4
        }
      ]
    },
    {
      "cell_type": "code",
      "source": [
        "#feature scaling\n",
        "scaler=StandardScaler()\n",
        "X_scaled=scaler.fit_transform(X)\n",
        "\n",
        "#split into train-test\n",
        "X_train, X_test, y_train, y_test=train_test_split(X_scaled,y,test_size=.2, random_state=42)\n",
        "\n"
      ],
      "metadata": {
        "id": "xD8_XlhriVKp"
      },
      "execution_count": 5,
      "outputs": []
    },
    {
      "cell_type": "code",
      "source": [],
      "metadata": {
        "id": "5iqCjIxaicix"
      },
      "execution_count": null,
      "outputs": []
    },
    {
      "cell_type": "markdown",
      "source": [],
      "metadata": {
        "id": "B33LLHtBito5"
      }
    },
    {
      "cell_type": "markdown",
      "source": [
        "# **Preprocessing Explanation:**\n",
        "Missing Values: The breast cancer dataset from sklearn has no missing values, but checking is a good habit.\n",
        "\n",
        "Feature Scaling (StandardScaler): Algorithms like SVM and k-NN are distance-based and sensitive to feature scales. Therefore, standardization ensures that each feature contributes equally.\n"
      ],
      "metadata": {
        "id": "o0CVPWz7il9z"
      }
    },
    {
      "cell_type": "code",
      "source": [
        "# 2. Classification Algorithm Implementation (5 marks) Implement the following five classification algorithms:\n",
        "\n",
        "# 1. Logistic Regression 2. Decision Tree Classifier 3. Random Forest Classifier 4. Support Vector Machine (SVM) 5. k-Nearest Neighbors (k-NN)\n",
        "\n",
        "#For each algorithm, provide a brief description of how it works and why it might be suitable for this dataset.\n",
        "\n",
        "\n",
        "from sklearn.linear_model import LogisticRegression\n",
        "from sklearn.tree import DecisionTreeClassifier\n",
        "from sklearn.ensemble import RandomForestClassifier\n",
        "from sklearn.svm import SVC\n",
        "from sklearn.neighbors import KNeighborsClassifier\n",
        "from sklearn.metrics import accuracy_score\n"
      ],
      "metadata": {
        "id": "fjr3lI2WivU5"
      },
      "execution_count": 6,
      "outputs": []
    },
    {
      "cell_type": "code",
      "source": [
        "models = {\n",
        "    \"Logistic Regression\": LogisticRegression(max_iter=10000),\n",
        "    \"Decision Tree\": DecisionTreeClassifier(random_state=42),\n",
        "    \"Random Forest\": RandomForestClassifier(random_state=42),\n",
        "    \"SVM\": SVC(),\n",
        "    \"k-NN\": KNeighborsClassifier()\n",
        "}\n",
        "\n",
        "# Train and test models\n",
        "results = {}\n",
        "for name, model in models.items():\n",
        "    model.fit(X_train, y_train)\n",
        "    y_pred = model.predict(X_test)\n",
        "    acc = accuracy_score(y_test, y_pred)\n",
        "    results[name] = acc\n",
        "    print(f\"{name} Accuracy: {acc:.4f}\")\n",
        "\n"
      ],
      "metadata": {
        "colab": {
          "base_uri": "https://localhost:8080/"
        },
        "id": "q-vUlbEBi1ky",
        "outputId": "857f0c79-94c8-42f8-9319-a61cdc72dfaf"
      },
      "execution_count": 7,
      "outputs": [
        {
          "output_type": "stream",
          "name": "stdout",
          "text": [
            "Logistic Regression Accuracy: 0.9737\n",
            "Decision Tree Accuracy: 0.9474\n",
            "Random Forest Accuracy: 0.9649\n",
            "SVM Accuracy: 0.9737\n",
            "k-NN Accuracy: 0.9474\n"
          ]
        }
      ]
    },
    {
      "cell_type": "markdown",
      "source": [],
      "metadata": {
        "id": "mimvK4_JjJJa"
      }
    },
    {
      "cell_type": "markdown",
      "source": [
        "# **Algorithm Explanations:**\n",
        "Logistic Regression:\n",
        "A linear model for classification. It estimates probabilities using a sigmoid function.\n",
        "\n",
        "Suitable because the dataset is well-labeled and logistic regression performs well with linearly separable data.\n",
        "\n",
        "Decision Tree Classifier:\n",
        "A tree structure where internal nodes represent features, branches represent decision rules, and leaves represent outcomes.\n",
        "\n",
        "Good for datasets with non-linear relationships and provides interpretability.\n",
        "\n",
        "Random Forest Classifier:\n",
        "An ensemble of decision trees; it reduces overfitting by averaging multiple trees.\n",
        "\n",
        "Performs better on noisy data and usually provides higher accuracy.\n",
        "\n",
        "Support Vector Machine (SVM):\n",
        "Finds the hyperplane that best separates the classes.\n",
        "\n",
        "Effective in high-dimensional spaces and when the number of features is larger than the number of samples.\n",
        "\n",
        "k-Nearest Neighbors (k-NN):\n",
        "A lazy learner that classifies based on the majority class among its k nearest neighbors.\n",
        "\n",
        "# Simple and effective on small datasets but sensitive to the feature scale and large datasets."
      ],
      "metadata": {
        "id": "j-wOXbjtjAZj"
      }
    },
    {
      "cell_type": "code",
      "source": [
        "# 3. Model Comparison: Compare the performance of the five classification algorithms.\n",
        "# Which algorithm performed the best and which one performed the worst?\n",
        "\n",
        "import matplotlib.pyplot as plt\n",
        "\n",
        "# Plot\n",
        "plt.bar(results.keys(), results.values(), color='skyblue')\n",
        "plt.ylabel('Accuracy')\n",
        "plt.ylim(0.9, 1)\n",
        "plt.title('Model Comparison')\n",
        "plt.xticks(rotation=90)\n",
        "plt.show()\n",
        "\n",
        "# Best and worst\n",
        "\n",
        "# Find max and min accuracy\n",
        "max_acc = max(results.values())\n",
        "min_acc = min(results.values())\n",
        "\n",
        "# List all best models\n",
        "best_models = [model for model, acc in results.items() if acc == max_acc]\n",
        "\n",
        "# List all worst models\n",
        "worst_models = [model for model, acc in results.items() if acc == min_acc]\n",
        "\n",
        "# Print results\n",
        "print(f\"\\n Best Performing Models: {', '.join(best_models)} with Accuracy: {max_acc:.4f}\")\n",
        "print(f\" Worst Performing Models: {', '.join(worst_models)} with Accuracy: {min_acc:.4f}\")\n",
        "\n"
      ],
      "metadata": {
        "colab": {
          "base_uri": "https://localhost:8080/",
          "height": 623
        },
        "id": "KOML9ZOAjLHa",
        "outputId": "bb1d4971-4582-4292-b0e7-b7bedc9564b1"
      },
      "execution_count": 8,
      "outputs": [
        {
          "output_type": "display_data",
          "data": {
            "text/plain": [
              "<Figure size 640x480 with 1 Axes>"
            ],
            "image/png": "[encoded data removed]"
          },
          "metadata": {}
        },
        {
          "output_type": "stream",
          "name": "stdout",
          "text": [
            "\n",
            " Best Performing Models: Logistic Regression, SVM with Accuracy: 0.9737\n",
            " Worst Performing Models: Decision Tree, k-NN with Accuracy: 0.9474\n"
          ]
        }
      ]
    },
    {
      "cell_type": "markdown",
      "source": [],
      "metadata": {
        "id": "NuZAy81gjmAy"
      }
    },
    {
      "cell_type": "markdown",
      "source": [
        "# **Conclusion:**\n",
        "In this classification task using the Breast Cancer dataset, five different supervised learning algorithms were implemented and evaluated: Logistic Regression, Decision Tree, Random Forest, Support Vector Machine (SVM), and k-Nearest Neighbors (k-NN). After training and testing, both Logistic Regression and SVM emerged as the best-performing models, each achieving an accuracy of 0.9737. This indicates that linear models and margin-based classifiers are well-suited for this dataset, which is relatively clean and likely linearly separable.\n",
        "\n",
        "On the other hand, the Decision Tree and KNN model showed the lowest performance with an accuracy of 0.9474. This suggests that while tree-based models are flexible, they may overfit or underperform without fine-tuning on this particular dataset."
      ],
      "metadata": {
        "id": "3Upy4DdJjhHR"
      }
    },
    {
      "cell_type": "code",
      "source": [],
      "metadata": {
        "id": "qWx4hTkMjcl5"
      },
      "execution_count": null,
      "outputs": []
    }
  ]
}